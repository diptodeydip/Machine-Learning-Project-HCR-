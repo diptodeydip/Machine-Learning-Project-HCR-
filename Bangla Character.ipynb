{
 "cells": [
  {
   "cell_type": "code",
   "execution_count": 1,
   "metadata": {
    "colab": {
     "base_uri": "https://localhost:8080/"
    },
    "executionInfo": {
     "elapsed": 721,
     "status": "ok",
     "timestamp": 1622042772951,
     "user": {
      "displayName": "Dipto Dey",
      "photoUrl": "https://lh3.googleusercontent.com/a-/AOh14GhmAHgkP9QfeBgD_IwyQaJMmuAj6Csij9_bhdrKtQ=s64",
      "userId": "00113521691834296220"
     },
     "user_tz": -360
    },
    "id": "L1kGU9_WA09T",
    "outputId": "6760079a-474c-4b42-fc6e-7e4612265f83"
   },
   "outputs": [
    {
     "name": "stderr",
     "output_type": "stream",
     "text": [
      "Using TensorFlow backend.\n"
     ]
    },
    {
     "name": "stdout",
     "output_type": "stream",
     "text": [
      "Using TensorFlow version 2.1.0\n"
     ]
    }
   ],
   "source": [
    "import tensorflow as tf\n",
    "import matplotlib.pyplot as plt\n",
    "import cv2\n",
    "import numpy as np\n",
    "from keras.models import Sequential\n",
    "from keras.layers import Dense, Flatten, Conv2D, MaxPool2D, Dropout, BatchNormalization\n",
    "from keras.optimizers import SGD, Adam\n",
    "from keras.callbacks import ReduceLROnPlateau, EarlyStopping\n",
    "#from keras.utils import to_categorical\n",
    "import pandas as pd\n",
    "import numpy as np\n",
    "from sklearn.model_selection import train_test_split\n",
    "from sklearn.utils import shuffle\n",
    "\n",
    "tf.compat.v1.logging.set_verbosity(tf.compat.v1.logging.ERROR)\n",
    "print('Using TensorFlow version', tf.__version__)"
   ]
  },
  {
   "cell_type": "code",
   "execution_count": 2,
   "metadata": {
    "executionInfo": {
     "elapsed": 12132,
     "status": "ok",
     "timestamp": 1622042785566,
     "user": {
      "displayName": "Dipto Dey",
      "photoUrl": "https://lh3.googleusercontent.com/a-/AOh14GhmAHgkP9QfeBgD_IwyQaJMmuAj6Csij9_bhdrKtQ=s64",
      "userId": "00113521691834296220"
     },
     "user_tz": -360
    },
    "id": "Wbvzxuo2Dz4_"
   },
   "outputs": [],
   "source": [
    "import pandas as pd\n",
    "\n",
    "# Library\n",
    "import pandas as pd\n",
    "import numpy as np\n",
    "\n",
    "# Load Data\n",
    "test1 = pd.read_csv(\"data/banglacharactertrain1.csv\")\n",
    "test2 = pd.read_csv(\"data/banglacharactertrain2.csv\")\n",
    "test3 = pd.read_csv(\"data/bangladigittrain3.csv\")\n",
    "\n",
    "train1 = pd.read_csv(\"data/banglacharactertest1.csv\")\n",
    "train2 = pd.read_csv(\"data/bangladigittest2.csv\")\n"
   ]
  },
  {
   "cell_type": "code",
   "execution_count": 3,
   "metadata": {
    "executionInfo": {
     "elapsed": 589,
     "status": "ok",
     "timestamp": 1622042786152,
     "user": {
      "displayName": "Dipto Dey",
      "photoUrl": "https://lh3.googleusercontent.com/a-/AOh14GhmAHgkP9QfeBgD_IwyQaJMmuAj6Csij9_bhdrKtQ=s64",
      "userId": "00113521691834296220"
     },
     "user_tz": -360
    },
    "id": "yHmE_zPyRQdD"
   },
   "outputs": [],
   "source": [
    "#concate dataframes\n",
    "train = pd.concat([train1,train2])\n",
    "test= pd.concat([test1,test2,test3])"
   ]
  },
  {
   "cell_type": "code",
   "execution_count": 4,
   "metadata": {
    "colab": {
     "base_uri": "https://localhost:8080/"
    },
    "executionInfo": {
     "elapsed": 9,
     "status": "ok",
     "timestamp": 1622042786152,
     "user": {
      "displayName": "Dipto Dey",
      "photoUrl": "https://lh3.googleusercontent.com/a-/AOh14GhmAHgkP9QfeBgD_IwyQaJMmuAj6Csij9_bhdrKtQ=s64",
      "userId": "00113521691834296220"
     },
     "user_tz": -360
    },
    "id": "5HbiVIgoT0Vc",
    "outputId": "10edbd66-e502-4f1b-8ccc-8bc41e17d0c5"
   },
   "outputs": [
    {
     "data": {
      "text/plain": [
       "(94240, 785)"
      ]
     },
     "execution_count": 4,
     "metadata": {},
     "output_type": "execute_result"
    }
   ],
   "source": [
    "train.shape\n"
   ]
  },
  {
   "cell_type": "code",
   "execution_count": 5,
   "metadata": {
    "colab": {
     "base_uri": "https://localhost:8080/"
    },
    "executionInfo": {
     "elapsed": 6,
     "status": "ok",
     "timestamp": 1622042786153,
     "user": {
      "displayName": "Dipto Dey",
      "photoUrl": "https://lh3.googleusercontent.com/a-/AOh14GhmAHgkP9QfeBgD_IwyQaJMmuAj6Csij9_bhdrKtQ=s64",
      "userId": "00113521691834296220"
     },
     "user_tz": -360
    },
    "id": "JdastTU_UBM0",
    "outputId": "b2b7c0d1-3a59-41d8-b7f7-a61cfe5de2e1"
   },
   "outputs": [
    {
     "data": {
      "text/plain": [
       "(89871, 785)"
      ]
     },
     "execution_count": 5,
     "metadata": {},
     "output_type": "execute_result"
    }
   ],
   "source": [
    "test.shape"
   ]
  },
  {
   "cell_type": "code",
   "execution_count": 6,
   "metadata": {
    "executionInfo": {
     "elapsed": 676,
     "status": "ok",
     "timestamp": 1622042786825,
     "user": {
      "displayName": "Dipto Dey",
      "photoUrl": "https://lh3.googleusercontent.com/a-/AOh14GhmAHgkP9QfeBgD_IwyQaJMmuAj6Csij9_bhdrKtQ=s64",
      "userId": "00113521691834296220"
     },
     "user_tz": -360
    },
    "id": "KKS-OF7PPCfj"
   },
   "outputs": [],
   "source": [
    "# Separating Data and Label\n",
    "Y_train = train[\"label\"]\n",
    "X_train = train.drop(labels = [\"label\"],axis = 1)\n",
    "\n",
    "# Separating Data and Label\n",
    "Y_test = test[\"label\"]\n",
    "X_test = test.drop(labels = [\"label\"],axis = 1)\n",
    "\n"
   ]
  },
  {
   "cell_type": "code",
   "execution_count": 7,
   "metadata": {
    "executionInfo": {
     "elapsed": 33,
     "status": "ok",
     "timestamp": 1622042786827,
     "user": {
      "displayName": "Dipto Dey",
      "photoUrl": "https://lh3.googleusercontent.com/a-/AOh14GhmAHgkP9QfeBgD_IwyQaJMmuAj6Csij9_bhdrKtQ=s64",
      "userId": "00113521691834296220"
     },
     "user_tz": -360
    },
    "id": "SVMANUVsSAhT"
   },
   "outputs": [],
   "source": [
    "# Normalize the data\n",
    "##X_train = X_train / 255.0\n",
    "\n",
    "# Reshape the array into 28 x 28 pixel\n",
    "X_train = X_train.values.reshape(94240,28,28)\n",
    "Y_train = Y_train.values.reshape(94240,)\n",
    "\n",
    "#x_train_reshaped = np.reshape(X_train ,(94240,784))\n",
    "\n",
    "# Normalize the data\n",
    "##X_test = X_test / 255.0\n",
    "\n",
    "# Reshape the array into 28 x 28 pixel\n",
    "X_test = X_test.values.reshape(89871,28,28)\n",
    "Y_test = Y_test.values.reshape(89871,)\n",
    "\n",
    "#x_test_reshaped = np.reshape(X_test ,(89871,784))\n",
    "\n",
    "x_test_reshaped = np.reshape(X_test ,(89871,28,28,1))\n",
    "x_train_reshaped = np.reshape(X_train ,(94240,28,28,1))\n"
   ]
  },
  {
   "cell_type": "code",
   "execution_count": 74,
   "metadata": {
    "colab": {
     "base_uri": "https://localhost:8080/",
     "height": 265
    },
    "executionInfo": {
     "elapsed": 33,
     "status": "ok",
     "timestamp": 1622042786828,
     "user": {
      "displayName": "Dipto Dey",
      "photoUrl": "https://lh3.googleusercontent.com/a-/AOh14GhmAHgkP9QfeBgD_IwyQaJMmuAj6Csij9_bhdrKtQ=s64",
      "userId": "00113521691834296220"
     },
     "user_tz": -360
    },
    "id": "FTwNedl0GQgy",
    "outputId": "ad283be2-ca20-412a-8b86-805710226236"
   },
   "outputs": [
    {
     "data": {
      "image/png": "[encoded data removed]",
      "text/plain": [
       "<Figure size 432x288 with 1 Axes>"
      ]
     },
     "metadata": {
      "needs_background": "light"
     },
     "output_type": "display_data"
    }
   ],
   "source": [
    "from matplotlib import pyplot as plt\n",
    "\n",
    "%matplotlib inline\n",
    "\n",
    "plt.imshow(X_train[35001], cmap='binary')\n",
    "plt.show()"
   ]
  },
  {
   "cell_type": "code",
   "execution_count": 9,
   "metadata": {
    "colab": {
     "base_uri": "https://localhost:8080/",
     "height": 265
    },
    "executionInfo": {
     "elapsed": 451,
     "status": "ok",
     "timestamp": 1622042787247,
     "user": {
      "displayName": "Dipto Dey",
      "photoUrl": "https://lh3.googleusercontent.com/a-/AOh14GhmAHgkP9QfeBgD_IwyQaJMmuAj6Csij9_bhdrKtQ=s64",
      "userId": "00113521691834296220"
     },
     "user_tz": -360
    },
    "id": "UduLNmG-IALZ",
    "outputId": "bd68c3b4-1807-4e5a-b6c3-ae7f75b6ae34"
   },
   "outputs": [
    {
     "data": {
      "image/png": "[encoded data removed]",
      "text/plain": [
       "<Figure size 432x288 with 1 Axes>"
      ]
     },
     "metadata": {
      "needs_background": "light"
     },
     "output_type": "display_data"
    }
   ],
   "source": [
    "plt.imshow(X_test[5], cmap='binary')\n",
    "plt.show()"
   ]
  },
  {
   "cell_type": "code",
   "execution_count": 10,
   "metadata": {
    "executionInfo": {
     "elapsed": 16,
     "status": "ok",
     "timestamp": 1622042787249,
     "user": {
      "displayName": "Dipto Dey",
      "photoUrl": "https://lh3.googleusercontent.com/a-/AOh14GhmAHgkP9QfeBgD_IwyQaJMmuAj6Csij9_bhdrKtQ=s64",
      "userId": "00113521691834296220"
     },
     "user_tz": -360
    },
    "id": "_toor4pnUbgB"
   },
   "outputs": [],
   "source": [
    "from tensorflow.keras.utils import to_categorical\n",
    "\n",
    "y_train_encoded = to_categorical(Y_train)\n",
    "y_test_encoded = to_categorical(Y_test)"
   ]
  },
  {
   "cell_type": "code",
   "execution_count": 11,
   "metadata": {
    "colab": {
     "base_uri": "https://localhost:8080/"
    },
    "executionInfo": {
     "elapsed": 15,
     "status": "ok",
     "timestamp": 1622042787249,
     "user": {
      "displayName": "Dipto Dey",
      "photoUrl": "https://lh3.googleusercontent.com/a-/AOh14GhmAHgkP9QfeBgD_IwyQaJMmuAj6Csij9_bhdrKtQ=s64",
      "userId": "00113521691834296220"
     },
     "user_tz": -360
    },
    "id": "ye-6JXsJUzBq",
    "outputId": "2fef609a-5a64-465d-9277-80d9e9181fe0"
   },
   "outputs": [
    {
     "data": {
      "text/plain": [
       "(89871, 122)"
      ]
     },
     "execution_count": 11,
     "metadata": {},
     "output_type": "execute_result"
    }
   ],
   "source": [
    "y_test_encoded.shape"
   ]
  },
  {
   "cell_type": "code",
   "execution_count": 12,
   "metadata": {
    "colab": {
     "base_uri": "https://localhost:8080/"
    },
    "executionInfo": {
     "elapsed": 14,
     "status": "ok",
     "timestamp": 1622042787250,
     "user": {
      "displayName": "Dipto Dey",
      "photoUrl": "https://lh3.googleusercontent.com/a-/AOh14GhmAHgkP9QfeBgD_IwyQaJMmuAj6Csij9_bhdrKtQ=s64",
      "userId": "00113521691834296220"
     },
     "user_tz": -360
    },
    "id": "bJsXXIbcU_IB",
    "outputId": "f919708c-d328-4c3c-d68f-e3fa5c6c6d9b"
   },
   "outputs": [
    {
     "data": {
      "text/plain": [
       "(94240, 122)"
      ]
     },
     "execution_count": 12,
     "metadata": {},
     "output_type": "execute_result"
    }
   ],
   "source": [
    "y_train_encoded.shape"
   ]
  },
  {
   "cell_type": "code",
   "execution_count": 13,
   "metadata": {
    "colab": {
     "base_uri": "https://localhost:8080/"
    },
    "executionInfo": {
     "elapsed": 12,
     "status": "ok",
     "timestamp": 1622042787250,
     "user": {
      "displayName": "Dipto Dey",
      "photoUrl": "https://lh3.googleusercontent.com/a-/AOh14GhmAHgkP9QfeBgD_IwyQaJMmuAj6Csij9_bhdrKtQ=s64",
      "userId": "00113521691834296220"
     },
     "user_tz": -360
    },
    "id": "umz52sZTV4V7",
    "outputId": "df687773-7bea-437d-9988-cc1df9ef3adf"
   },
   "outputs": [
    {
     "data": {
      "text/plain": [
       "array([0., 0., 0., 0., 0., 0., 0., 0., 0., 0., 1., 0., 0., 0., 0., 0., 0.,\n",
       "       0., 0., 0., 0., 0., 0., 0., 0., 0., 0., 0., 0., 0., 0., 0., 0., 0.,\n",
       "       0., 0., 0., 0., 0., 0., 0., 0., 0., 0., 0., 0., 0., 0., 0., 0., 0.,\n",
       "       0., 0., 0., 0., 0., 0., 0., 0., 0., 0., 0., 0., 0., 0., 0., 0., 0.,\n",
       "       0., 0., 0., 0., 0., 0., 0., 0., 0., 0., 0., 0., 0., 0., 0., 0., 0.,\n",
       "       0., 0., 0., 0., 0., 0., 0., 0., 0., 0., 0., 0., 0., 0., 0., 0., 0.,\n",
       "       0., 0., 0., 0., 0., 0., 0., 0., 0., 0., 0., 0., 0., 0., 0., 0., 0.,\n",
       "       0., 0., 0.], dtype=float32)"
      ]
     },
     "execution_count": 13,
     "metadata": {},
     "output_type": "execute_result"
    }
   ],
   "source": [
    "y_train_encoded[0]"
   ]
  },
  {
   "cell_type": "code",
   "execution_count": 14,
   "metadata": {
    "colab": {
     "base_uri": "https://localhost:8080/"
    },
    "executionInfo": {
     "elapsed": 10,
     "status": "ok",
     "timestamp": 1622042787250,
     "user": {
      "displayName": "Dipto Dey",
      "photoUrl": "https://lh3.googleusercontent.com/a-/AOh14GhmAHgkP9QfeBgD_IwyQaJMmuAj6Csij9_bhdrKtQ=s64",
      "userId": "00113521691834296220"
     },
     "user_tz": -360
    },
    "id": "IKK-wJb2V-wj",
    "outputId": "451fc96c-40d3-4a59-f7a6-a57fc67d780b"
   },
   "outputs": [
    {
     "name": "stdout",
     "output_type": "stream",
     "text": [
      "{0.0, 1.0}\n"
     ]
    }
   ],
   "source": [
    "print(set(y_train_encoded[0]))"
   ]
  },
  {
   "cell_type": "code",
   "execution_count": 15,
   "metadata": {
    "executionInfo": {
     "elapsed": 354,
     "status": "ok",
     "timestamp": 1622042787596,
     "user": {
      "displayName": "Dipto Dey",
      "photoUrl": "https://lh3.googleusercontent.com/a-/AOh14GhmAHgkP9QfeBgD_IwyQaJMmuAj6Csij9_bhdrKtQ=s64",
      "userId": "00113521691834296220"
     },
     "user_tz": -360
    },
    "id": "PLHz4Zi6VWsK"
   },
   "outputs": [],
   "source": [
    "x_mean = np.mean(x_train_reshaped)\n",
    "x_std = np.std(x_train_reshaped)\n",
    "\n",
    "epsilon = 1e-10\n",
    "\n",
    "x_train_norm = (x_train_reshaped - x_mean) / (x_std + epsilon)\n",
    "x_test_norm = (x_test_reshaped - x_mean) / (x_std + epsilon)"
   ]
  },
  {
   "cell_type": "code",
   "execution_count": 16,
   "metadata": {
    "executionInfo": {
     "elapsed": 5,
     "status": "ok",
     "timestamp": 1622042787597,
     "user": {
      "displayName": "Dipto Dey",
      "photoUrl": "https://lh3.googleusercontent.com/a-/AOh14GhmAHgkP9QfeBgD_IwyQaJMmuAj6Csij9_bhdrKtQ=s64",
      "userId": "00113521691834296220"
     },
     "user_tz": -360
    },
    "id": "ZwqNZI5JWFUB"
   },
   "outputs": [],
   "source": [
    "#print(set(x_train_norm[0]))"
   ]
  },
  {
   "cell_type": "code",
   "execution_count": 40,
   "metadata": {
    "executionInfo": {
     "elapsed": 5,
     "status": "ok",
     "timestamp": 1622042787598,
     "user": {
      "displayName": "Dipto Dey",
      "photoUrl": "https://lh3.googleusercontent.com/a-/AOh14GhmAHgkP9QfeBgD_IwyQaJMmuAj6Csij9_bhdrKtQ=s64",
      "userId": "00113521691834296220"
     },
     "user_tz": -360
    },
    "id": "TYxo2P9TJCnh"
   },
   "outputs": [],
   "source": [
    "model = Sequential()\n",
    "# model = Sequential([\n",
    "#                     Dense(128,activation='relu' , input_shape=(784,)),\n",
    "#                     Dense(128,activation='relu'),\n",
    "#                    Dense(128,activation='relu'),\n",
    "#                     Dense(122,activation='softmax')\n",
    "# ])"
   ]
  },
  {
   "cell_type": "code",
   "execution_count": 41,
   "metadata": {
    "executionInfo": {
     "elapsed": 6,
     "status": "ok",
     "timestamp": 1622042788061,
     "user": {
      "displayName": "Dipto Dey",
      "photoUrl": "https://lh3.googleusercontent.com/a-/AOh14GhmAHgkP9QfeBgD_IwyQaJMmuAj6Csij9_bhdrKtQ=s64",
      "userId": "00113521691834296220"
     },
     "user_tz": -360
    },
    "id": "NDmfzBddNoZK"
   },
   "outputs": [],
   "source": [
    "model.add(Conv2D(filters=32, kernel_size=(3, 3), activation='relu', input_shape=(28,28,1)))\n",
    "model.add(MaxPool2D(pool_size=(2, 2), strides=2))\n",
    "model.add(Conv2D(filters=64, kernel_size=(3, 3), activation='relu', padding = 'same'))\n",
    "model.add(MaxPool2D(pool_size=(2, 2), strides=2))\n",
    "model.add(Conv2D(filters=128, kernel_size=(3, 3), activation='relu', padding = 'valid'))\n",
    "model.add(MaxPool2D(pool_size=(2, 2), strides=2))\n",
    "model.add(Flatten())\n",
    "model.add(Dense(128,activation='relu'))\n",
    "model.add(Dense(128,activation='relu'))\n",
    "model.add(Dense(122,activation='softmax'))\n"
   ]
  },
  {
   "cell_type": "code",
   "execution_count": 44,
   "metadata": {
    "executionInfo": {
     "elapsed": 5,
     "status": "ok",
     "timestamp": 1622042788061,
     "user": {
      "displayName": "Dipto Dey",
      "photoUrl": "https://lh3.googleusercontent.com/a-/AOh14GhmAHgkP9QfeBgD_IwyQaJMmuAj6Csij9_bhdrKtQ=s64",
      "userId": "00113521691834296220"
     },
     "user_tz": -360
    },
    "id": "G3tad6sVS1K9"
   },
   "outputs": [],
   "source": [
    "model.compile(\n",
    "    optimizer='sgd',\n",
    "    loss='categorical_crossentropy',\n",
    "    metrics=['accuracy']\n",
    ")\n",
    "\n",
    "#model.summary()"
   ]
  },
  {
   "cell_type": "markdown",
   "metadata": {
    "id": "V9CJZtUnEkxn"
   },
   "source": [
    "########################"
   ]
  },
  {
   "cell_type": "code",
   "execution_count": 45,
   "metadata": {
    "colab": {
     "base_uri": "https://localhost:8080/"
    },
    "executionInfo": {
     "elapsed": 578486,
     "status": "ok",
     "timestamp": 1622043366542,
     "user": {
      "displayName": "Dipto Dey",
      "photoUrl": "https://lh3.googleusercontent.com/a-/AOh14GhmAHgkP9QfeBgD_IwyQaJMmuAj6Csij9_bhdrKtQ=s64",
      "userId": "00113521691834296220"
     },
     "user_tz": -360
    },
    "id": "8joJTOOoS-iX",
    "outputId": "94ad9a6a-c59a-472d-85da-655f8875cf67"
   },
   "outputs": [
    {
     "name": "stdout",
     "output_type": "stream",
     "text": [
      "Train on 94240 samples, validate on 89871 samples\n",
      "Epoch 1/3\n",
      "94240/94240 [==============================] - 64s 678us/step - loss: 2.0476 - accuracy: 0.4779 - val_loss: 1.1928 - val_accuracy: 0.6739\n",
      "Epoch 2/3\n",
      "94240/94240 [==============================] - 66s 699us/step - loss: 0.6482 - accuracy: 0.8153 - val_loss: 0.8029 - val_accuracy: 0.7778\n",
      "Epoch 3/3\n",
      "94240/94240 [==============================] - 67s 715us/step - loss: 0.4329 - accuracy: 0.8763 - val_loss: 0.6354 - val_accuracy: 0.8250\n"
     ]
    }
   ],
   "source": [
    "history = model.fit(x_train_norm, y_train_encoded, epochs=3 , validation_data = (x_test_norm, y_test_encoded))"
   ]
  },
  {
   "cell_type": "code",
   "execution_count": 46,
   "metadata": {},
   "outputs": [],
   "source": [
    "model.save(r'model_hand_reco.h5')"
   ]
  },
  {
   "cell_type": "code",
   "execution_count": 47,
   "metadata": {
    "scrolled": true
   },
   "outputs": [
    {
     "name": "stdout",
     "output_type": "stream",
     "text": [
      "Model: \"sequential_2\"\n",
      "_________________________________________________________________\n",
      "Layer (type)                 Output Shape              Param #   \n",
      "=================================================================\n",
      "conv2d_5 (Conv2D)            (None, 26, 26, 32)        320       \n",
      "_________________________________________________________________\n",
      "max_pooling2d_4 (MaxPooling2 (None, 13, 13, 32)        0         \n",
      "_________________________________________________________________\n",
      "conv2d_6 (Conv2D)            (None, 13, 13, 64)        18496     \n",
      "_________________________________________________________________\n",
      "max_pooling2d_5 (MaxPooling2 (None, 6, 6, 64)          0         \n",
      "_________________________________________________________________\n",
      "conv2d_7 (Conv2D)            (None, 4, 4, 128)         73856     \n",
      "_________________________________________________________________\n",
      "max_pooling2d_6 (MaxPooling2 (None, 2, 2, 128)         0         \n",
      "_________________________________________________________________\n",
      "flatten_2 (Flatten)          (None, 512)               0         \n",
      "_________________________________________________________________\n",
      "dense_4 (Dense)              (None, 128)               65664     \n",
      "_________________________________________________________________\n",
      "dense_5 (Dense)              (None, 128)               16512     \n",
      "_________________________________________________________________\n",
      "dense_6 (Dense)              (None, 122)               15738     \n",
      "=================================================================\n",
      "Total params: 190,586\n",
      "Trainable params: 190,586\n",
      "Non-trainable params: 0\n",
      "_________________________________________________________________\n"
     ]
    }
   ],
   "source": [
    "model.summary()"
   ]
  },
  {
   "cell_type": "code",
   "execution_count": 48,
   "metadata": {},
   "outputs": [
    {
     "name": "stdout",
     "output_type": "stream",
     "text": [
      "The validation accuracy is : [0.6739326119422913, 0.7777703404426575, 0.8249602317810059]\n",
      "The training accuracy is : [0.4778544, 0.8153226, 0.8762627]\n",
      "The validation loss is : [1.1928271708789462, 0.8028588235604425, 0.6353561558808714]\n",
      "The training loss is : [2.0475998101797086, 0.6482438478637834, 0.43289571361322154]\n"
     ]
    }
   ],
   "source": [
    "print(\"The validation accuracy is :\", history.history['val_accuracy'])\n",
    "print(\"The training accuracy is :\", history.history['accuracy'])\n",
    "print(\"The validation loss is :\", history.history['val_loss'])\n",
    "print(\"The training loss is :\", history.history['loss'])"
   ]
  },
  {
   "cell_type": "code",
   "execution_count": 49,
   "metadata": {
    "colab": {
     "base_uri": "https://localhost:8080/"
    },
    "executionInfo": {
     "elapsed": 32955,
     "status": "ok",
     "timestamp": 1622043399490,
     "user": {
      "displayName": "Dipto Dey",
      "photoUrl": "https://lh3.googleusercontent.com/a-/AOh14GhmAHgkP9QfeBgD_IwyQaJMmuAj6Csij9_bhdrKtQ=s64",
      "userId": "00113521691834296220"
     },
     "user_tz": -360
    },
    "id": "AIQCTr3yWm8v",
    "outputId": "6cc67d23-6182-44ff-c87d-ffe114ea5859"
   },
   "outputs": [],
   "source": [
    "#loss , accuracy = model.evaluate(x_test_norm, y_test_encoded)\n",
    "\n",
    "#print('Test set accuracy:' , accuracy*100)"
   ]
  },
  {
   "cell_type": "code",
   "execution_count": 50,
   "metadata": {
    "colab": {
     "base_uri": "https://localhost:8080/"
    },
    "executionInfo": {
     "elapsed": 29311,
     "status": "ok",
     "timestamp": 1622043428789,
     "user": {
      "displayName": "Dipto Dey",
      "photoUrl": "https://lh3.googleusercontent.com/a-/AOh14GhmAHgkP9QfeBgD_IwyQaJMmuAj6Csij9_bhdrKtQ=s64",
      "userId": "00113521691834296220"
     },
     "user_tz": -360
    },
    "id": "_3E1UWj3ZnHx",
    "outputId": "3f9647a0-a1b2-4d73-e0bc-f231ad5da242"
   },
   "outputs": [
    {
     "name": "stdout",
     "output_type": "stream",
     "text": [
      "(89871, 122)\n"
     ]
    }
   ],
   "source": [
    "predictions = model.predict(x_test_norm)\n",
    "print(predictions.shape)"
   ]
  },
  {
   "cell_type": "code",
   "execution_count": 51,
   "metadata": {
    "colab": {
     "base_uri": "https://localhost:8080/",
     "height": 861
    },
    "executionInfo": {
     "elapsed": 1395,
     "status": "ok",
     "timestamp": 1622043430180,
     "user": {
      "displayName": "Dipto Dey",
      "photoUrl": "https://lh3.googleusercontent.com/a-/AOh14GhmAHgkP9QfeBgD_IwyQaJMmuAj6Csij9_bhdrKtQ=s64",
      "userId": "00113521691834296220"
     },
     "user_tz": -360
    },
    "id": "cJnJhtybB1hw",
    "outputId": "955ae604-b332-4ec6-ee0f-cf07d57764b1"
   },
   "outputs": [
    {
     "data": {
      "image/png": "[encoded data removed]",
      "text/plain": [
       "<Figure size 1080x1080 with 25 Axes>"
      ]
     },
     "metadata": {},
     "output_type": "display_data"
    }
   ],
   "source": [
    "plt.figure(figsize=(15,15))\n",
    "\n",
    "start_index= 100;\n",
    "\n",
    "for i in range(25):\n",
    "  plt.subplot(5 , 5,i+1)\n",
    "  plt.grid(False)\n",
    "  plt.xticks([])\n",
    "  plt.yticks([])\n",
    "\n",
    "  prediction = np.argmax(predictions[start_index+i])\n",
    "  true_value = Y_test[start_index+i]\n",
    "\n",
    "  col = 'g'\n",
    "  if prediction != true_value:\n",
    "    col = 'r'\n",
    "\n",
    "  plt.xlabel('i={}, pred={}, true_value={}' .format(start_index+i, prediction, true_value), color=col)\n",
    "  plt.imshow(X_test[start_index+i], cmap='binary')\n",
    "plt.show()"
   ]
  },
  {
   "cell_type": "code",
   "execution_count": 52,
   "metadata": {
    "colab": {
     "base_uri": "https://localhost:8080/",
     "height": 265
    },
    "executionInfo": {
     "elapsed": 27,
     "status": "ok",
     "timestamp": 1622043430181,
     "user": {
      "displayName": "Dipto Dey",
      "photoUrl": "https://lh3.googleusercontent.com/a-/AOh14GhmAHgkP9QfeBgD_IwyQaJMmuAj6Csij9_bhdrKtQ=s64",
      "userId": "00113521691834296220"
     },
     "user_tz": -360
    },
    "id": "R6JVI1reDmjg",
    "outputId": "41889bf8-25fb-46a1-fc2a-89702fe7eff2"
   },
   "outputs": [
    {
     "data": {
      "image/png": "[encoded data removed]",
      "text/plain": [
       "<Figure size 432x288 with 1 Axes>"
      ]
     },
     "metadata": {
      "needs_background": "light"
     },
     "output_type": "display_data"
    }
   ],
   "source": [
    "plt.plot(predictions[124])\n",
    "plt.show()"
   ]
  },
  {
   "cell_type": "code",
   "execution_count": 53,
   "metadata": {
    "executionInfo": {
     "elapsed": 24,
     "status": "ok",
     "timestamp": 1622043430181,
     "user": {
      "displayName": "Dipto Dey",
      "photoUrl": "https://lh3.googleusercontent.com/a-/AOh14GhmAHgkP9QfeBgD_IwyQaJMmuAj6Csij9_bhdrKtQ=s64",
      "userId": "00113521691834296220"
     },
     "user_tz": -360
    },
    "id": "fHrb8SotE1b3"
   },
   "outputs": [],
   "source": [
    "prediction = np.argmax(predictions[124])"
   ]
  },
  {
   "cell_type": "code",
   "execution_count": 54,
   "metadata": {
    "colab": {
     "base_uri": "https://localhost:8080/"
    },
    "executionInfo": {
     "elapsed": 24,
     "status": "ok",
     "timestamp": 1622043430182,
     "user": {
      "displayName": "Dipto Dey",
      "photoUrl": "https://lh3.googleusercontent.com/a-/AOh14GhmAHgkP9QfeBgD_IwyQaJMmuAj6Csij9_bhdrKtQ=s64",
      "userId": "00113521691834296220"
     },
     "user_tz": -360
    },
    "id": "dSHGHUTUXfig",
    "outputId": "650261ee-ef8e-4745-fd16-87cd22682aa0"
   },
   "outputs": [
    {
     "data": {
      "text/plain": [
       "17"
      ]
     },
     "execution_count": 54,
     "metadata": {},
     "output_type": "execute_result"
    }
   ],
   "source": [
    "prediction"
   ]
  },
  {
   "cell_type": "code",
   "execution_count": 55,
   "metadata": {
    "colab": {
     "base_uri": "https://localhost:8080/"
    },
    "executionInfo": {
     "elapsed": 975,
     "status": "ok",
     "timestamp": 1622043431139,
     "user": {
      "displayName": "Dipto Dey",
      "photoUrl": "https://lh3.googleusercontent.com/a-/AOh14GhmAHgkP9QfeBgD_IwyQaJMmuAj6Csij9_bhdrKtQ=s64",
      "userId": "00113521691834296220"
     },
     "user_tz": -360
    },
    "id": "_BGliqcMXhS_",
    "outputId": "a7acaaf6-cdb3-45d1-8e78-e3af645697f7"
   },
   "outputs": [
    {
     "data": {
      "text/plain": [
       "10"
      ]
     },
     "execution_count": 55,
     "metadata": {},
     "output_type": "execute_result"
    }
   ],
   "source": [
    "Y_test[124]"
   ]
  },
  {
   "cell_type": "code",
   "execution_count": 56,
   "metadata": {
    "colab": {
     "base_uri": "https://localhost:8080/",
     "height": 265
    },
    "executionInfo": {
     "elapsed": 15,
     "status": "ok",
     "timestamp": 1622043431141,
     "user": {
      "displayName": "Dipto Dey",
      "photoUrl": "https://lh3.googleusercontent.com/a-/AOh14GhmAHgkP9QfeBgD_IwyQaJMmuAj6Csij9_bhdrKtQ=s64",
      "userId": "00113521691834296220"
     },
     "user_tz": -360
    },
    "id": "F8JndKbxXro_",
    "outputId": "bb2c0fda-38b2-4065-ccdb-3fe8488c5881"
   },
   "outputs": [
    {
     "data": {
      "image/png": "[encoded data removed]",
      "text/plain": [
       "<Figure size 432x288 with 1 Axes>"
      ]
     },
     "metadata": {
      "needs_background": "light"
     },
     "output_type": "display_data"
    }
   ],
   "source": [
    "plt.imshow(X_test[124], cmap='binary')\n",
    "plt.show()"
   ]
  },
  {
   "cell_type": "markdown",
   "metadata": {
    "executionInfo": {
     "elapsed": 14,
     "status": "ok",
     "timestamp": 1622043431142,
     "user": {
      "displayName": "Dipto Dey",
      "photoUrl": "https://lh3.googleusercontent.com/a-/AOh14GhmAHgkP9QfeBgD_IwyQaJMmuAj6Csij9_bhdrKtQ=s64",
      "userId": "00113521691834296220"
     },
     "user_tz": -360
    },
    "id": "SeM5iDCQZPn4"
   },
   "source": [
    "#### predict with external image"
   ]
  },
  {
   "cell_type": "code",
   "execution_count": 75,
   "metadata": {},
   "outputs": [
    {
     "data": {
      "image/png": "[encoded data removed]",
      "text/plain": [
       "<Figure size 432x288 with 1 Axes>"
      ]
     },
     "metadata": {
      "needs_background": "light"
     },
     "output_type": "display_data"
    }
   ],
   "source": [
    "img = cv2.imread('data/10.jpg')\n",
    "img_copy = img.copy()\n",
    "img = cv2.cvtColor(img, cv2.COLOR_BGR2RGB)\n",
    "img = cv2.resize(img, (400,440))\n",
    "plt.imshow(img, cmap='binary')\n",
    "plt.show()"
   ]
  },
  {
   "cell_type": "code",
   "execution_count": 76,
   "metadata": {},
   "outputs": [],
   "source": [
    "img_copy = cv2.GaussianBlur(img_copy, (7,7), 0)\n",
    "img_gray = cv2.cvtColor(img_copy, cv2.COLOR_BGR2GRAY)\n",
    "_, img_thresh = cv2.threshold(img_gray, 100, 255, cv2.THRESH_BINARY_INV)\n",
    "img_final = cv2.resize(img_thresh, (28,28))\n",
    "img_final =np.reshape(img_final, (1,28,28,1))"
   ]
  },
  {
   "cell_type": "code",
   "execution_count": 77,
   "metadata": {},
   "outputs": [],
   "source": [
    "img_pred = str(np.argmax(model.predict(img_final)))\n",
    "cv2.putText(img, \"Prediction: \" + img_pred, (20,25), cv2.FONT_HERSHEY_DUPLEX, 1, color = (0,0,0))\n",
    "cv2.imshow('handwritten character recognition _ _ _ ', img)"
   ]
  },
  {
   "cell_type": "code",
   "execution_count": null,
   "metadata": {},
   "outputs": [],
   "source": [
    "while (1):\n",
    "    k = cv2.waitKey(1) & 0xFF\n",
    "    if k == 27: #press esc to exit\n",
    "        break\n",
    "cv2.destroyAllWindows()"
   ]
  },
  {
   "cell_type": "code",
   "execution_count": null,
   "metadata": {},
   "outputs": [],
   "source": []
  }
 ],
 "metadata": {
  "colab": {
   "collapsed_sections": [],
   "name": "Bangla Character.ipynb",
   "provenance": []
  },
  "kernelspec": {
   "display_name": "Python 3",
   "language": "python",
   "name": "python3"
  },
  "language_info": {
   "codemirror_mode": {
    "name": "ipython",
    "version": 3
   },
   "file_extension": ".py",
   "mimetype": "text/x-python",
   "name": "python",
   "nbconvert_exporter": "python",
   "pygments_lexer": "ipython3",
   "version": "3.7.6"
  }
 },
 "nbformat": 4,
 "nbformat_minor": 1
}
